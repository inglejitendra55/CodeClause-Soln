{
 "cells": [
  {
   "cell_type": "code",
   "execution_count": 1,
   "id": "96f5884c",
   "metadata": {},
   "outputs": [
    {
     "name": "stdout",
     "output_type": "stream",
     "text": [
      "pygame 2.5.0 (SDL 2.28.0, Python 3.11.3)\n",
      "Hello from the pygame community. https://www.pygame.org/contribute.html\n"
     ]
    }
   ],
   "source": [
    "import pygame\n",
    "import os\n",
    "from tkinter import *\n",
    "from tkinter import filedialog\n",
    "\n",
    "# Initialize pygame\n",
    "pygame.init()\n",
    "\n",
    "# Create the main window\n",
    "root = Tk()\n",
    "root.title(\"Music Player\")\n",
    "\n",
    "# Set up the file dialog\n",
    "def browse_file():\n",
    "    file_path = filedialog.askopenfilename()\n",
    "    add_to_playlist(file_path)\n",
    "\n",
    "# Add selected file to the playlist\n",
    "def add_to_playlist(file):\n",
    "    playlist_box.insert(END, os.path.basename(file))\n",
    "    playlist.append(file)\n",
    "\n",
    "# Create playlist\n",
    "playlist = []\n",
    "\n",
    "# Create playlist box\n",
    "playlist_box = Listbox(root, bg=\"black\", fg=\"white\")\n",
    "playlist_box.pack(fill=\"both\", expand=\"yes\")\n",
    "\n",
    "# Create buttons\n",
    "add_button = Button(root, text=\"Add Song\", command=browse_file)\n",
    "add_button.pack()\n",
    "\n",
    "play_button = Button(root, text=\"Play\")\n",
    "play_button.pack()\n",
    "\n",
    "pause_button = Button(root, text=\"Pause\")\n",
    "pause_button.pack()\n",
    "\n",
    "stop_button = Button(root, text=\"Stop\")\n",
    "stop_button.pack()\n",
    "\n",
    "# Play selected song\n",
    "def play_music():\n",
    "    if playlist:\n",
    "        song = playlist_box.get(ACTIVE)\n",
    "        pygame.mixer.music.load(song)\n",
    "        pygame.mixer.music.play()\n",
    "\n",
    "# Pause the playback\n",
    "def pause_music():\n",
    "    pygame.mixer.music.pause()\n",
    "\n",
    "# Stop the playback\n",
    "def stop_music():\n",
    "    pygame.mixer.music.stop()\n",
    "\n",
    "play_button.config(command=play_music)\n",
    "pause_button.config(command=pause_music)\n",
    "stop_button.config(command=stop_music)\n",
    "\n",
    "# Run the GUI loop\n",
    "root.mainloop()\n",
    "\n",
    "# Clean up pygame\n",
    "pygame.quit()\n"
   ]
  },
  {
   "cell_type": "code",
   "execution_count": null,
   "id": "65e83328",
   "metadata": {},
   "outputs": [],
   "source": []
  }
 ],
 "metadata": {
  "kernelspec": {
   "display_name": "Python 3 (ipykernel)",
   "language": "python",
   "name": "python3"
  },
  "language_info": {
   "codemirror_mode": {
    "name": "ipython",
    "version": 3
   },
   "file_extension": ".py",
   "mimetype": "text/x-python",
   "name": "python",
   "nbconvert_exporter": "python",
   "pygments_lexer": "ipython3",
   "version": "3.11.3"
  }
 },
 "nbformat": 4,
 "nbformat_minor": 5
}
