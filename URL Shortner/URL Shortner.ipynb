{
 "cells": [
  {
   "cell_type": "code",
   "execution_count": null,
   "id": "ba9f5595",
   "metadata": {},
   "outputs": [],
   "source": [
    "import pyshorteners\n",
    "import tkinter as tk\n",
    "from tkinter import messagebox\n",
    "\n",
    "class URLShortener:\n",
    "    def __init__(self, root):\n",
    "        self.root = root\n",
    "        self.root.title(\"URL Shortener\")\n",
    "        self.root.geometry(\"400x150\")\n",
    "\n",
    "        self.label = tk.Label(root, text=\"Enter URL:\")\n",
    "        self.label.pack()\n",
    "\n",
    "        self.url_entry = tk.Entry(root, width=40)\n",
    "        self.url_entry.pack()\n",
    "\n",
    "        self.shorten_button = tk.Button(root, text=\"Shorten\", command=self.shorten_url)\n",
    "        self.shorten_button.pack()\n",
    "\n",
    "    def shorten_url(self):\n",
    "        url = self.url_entry.get()\n",
    "        if url:\n",
    "            try:\n",
    "                s = pyshorteners.Shortener()\n",
    "                short_url = s.tinyurl.short(url)\n",
    "                messagebox.showinfo(\"Shortened URL\", f\"Shortened URL: {short_url}\")\n",
    "            except Exception as e:\n",
    "                messagebox.showerror(\"Error\", f\"An error occurred: {e}\")\n",
    "        else:\n",
    "            messagebox.showwarning(\"Warning\", \"Please enter a URL.\")\n",
    "\n",
    "if __name__ == \"__main__\":\n",
    "    root = tk.Tk()\n",
    "    url_shortener = URLShortener(root)\n",
    "    root.mainloop()"
   ]
  },
  {
   "cell_type": "code",
   "execution_count": null,
   "id": "7f2880a9",
   "metadata": {},
   "outputs": [],
   "source": []
  }
 ],
 "metadata": {
  "kernelspec": {
   "display_name": "Python 3 (ipykernel)",
   "language": "python",
   "name": "python3"
  },
  "language_info": {
   "codemirror_mode": {
    "name": "ipython",
    "version": 3
   },
   "file_extension": ".py",
   "mimetype": "text/x-python",
   "name": "python",
   "nbconvert_exporter": "python",
   "pygments_lexer": "ipython3",
   "version": "3.11.3"
  }
 },
 "nbformat": 4,
 "nbformat_minor": 5
}
